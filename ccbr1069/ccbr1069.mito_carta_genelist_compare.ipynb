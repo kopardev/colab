{
  "nbformat": 4,
  "nbformat_minor": 0,
  "metadata": {
    "colab": {
      "name": "Test_R",
      "provenance": [],
      "collapsed_sections": [],
      "authorship_tag": "ABX9TyPsWH5OL5v+bTn+CPicfaCT",
      "include_colab_link": true
    },
    "kernelspec": {
      "name": "ir",
      "display_name": "R"
    }
  },
  "cells": [
    {
      "cell_type": "markdown",
      "metadata": {
        "id": "view-in-github",
        "colab_type": "text"
      },
      "source": [
        "<a href=\"https://colab.research.google.com/github/kopardev/colab/blob/main/ccbr1069/ccbr1069.mito_carta_genelist_compare.ipynb\" target=\"_parent\"><img src=\"https://colab.research.google.com/assets/colab-badge.svg\" alt=\"Open In Colab\"/></a>"
      ]
    },
    {
      "cell_type": "markdown",
      "metadata": {
        "id": "3J5uj6LVmP2I"
      },
      "source": [
        "Testing"
      ]
    },
    {
      "cell_type": "markdown",
      "metadata": {
        "id": "rmX77wyYmUDN"
      },
      "source": [
        "# Testing"
      ]
    },
    {
      "cell_type": "code",
      "metadata": {
        "id": "p03g8WTIgaqs"
      },
      "source": [
        "library(ggplot2)"
      ],
      "execution_count": null,
      "outputs": []
    },
    {
      "cell_type": "code",
      "metadata": {
        "id": "F_4Mt-4TgwZD",
        "outputId": "d786366e-2903-4215-f6b0-371a38d19ed3",
        "colab": {
          "base_uri": "https://localhost:8080/",
          "height": 187
        }
      },
      "source": [
        "install.packages(\"BiocManager\")\n",
        "BiocManager::install()"
      ],
      "execution_count": null,
      "outputs": [
        {
          "output_type": "stream",
          "text": [
            "Installing package into ‘/usr/local/lib/R/site-library’\n",
            "(as ‘lib’ is unspecified)\n",
            "\n",
            "Bioconductor version 3.11 (BiocManager 1.30.10), R 4.0.2 (2020-06-22)\n",
            "\n",
            "Installing package(s) 'BiocVersion'\n",
            "\n",
            "Old packages: 'cpp11', 'rmarkdown', 'systemfonts', 'xfun', 'foreign',\n",
            "  'survival'\n",
            "\n"
          ],
          "name": "stderr"
        }
      ]
    },
    {
      "cell_type": "code",
      "metadata": {
        "id": "ktvZC7uCgiT2",
        "outputId": "465e11a1-b8e3-43ca-f8e3-a649f3abd4f6",
        "colab": {
          "base_uri": "https://localhost:8080/",
          "height": 437
        }
      },
      "source": [
        "data(cars)\n",
        "ggplot(cars)+geom_point(aes(y=speed,x=dist))+theme_classic()"
      ],
      "execution_count": 9,
      "outputs": [
        {
          "output_type": "display_data",
          "data": {
            "image/png": "[encoded data removed]",
            "text/plain": [
              "plot without title"
            ]
          },
          "metadata": {
            "tags": [],
            "image/png": {
              "width": 420,
              "height": 420
            }
          }
        }
      ]
    },
    {
      "cell_type": "markdown",
      "metadata": {
        "id": "eZ4tFhqZmZfS"
      },
      "source": [
        "# Prep"
      ]
    },
    {
      "cell_type": "markdown",
      "metadata": {
        "id": "FI7V1kjOmhQP"
      },
      "source": [
        "## Install"
      ]
    },
    {
      "cell_type": "code",
      "metadata": {
        "id": "q_9FtNJ8hNG6",
        "outputId": "8f442665-5030-49da-c9e9-979a1ff5d2c9",
        "colab": {
          "base_uri": "https://localhost:8080/",
          "height": 207
        }
      },
      "source": [
        "BiocManager::install(\"Homo.sapiens\")\n"
      ],
      "execution_count": null,
      "outputs": [
        {
          "output_type": "stream",
          "text": [
            "Bioconductor version 3.11 (BiocManager 1.30.10), R 4.0.2 (2020-06-22)\n",
            "\n",
            "Installing package(s) 'Homo.sapiens'\n",
            "\n",
            "also installing the dependencies ‘formatR’, ‘lambda.r’, ‘futile.options’, ‘matrixStats’, ‘futile.logger’, ‘snow’, ‘DelayedArray’, ‘bit’, ‘BiocParallel’, ‘Rhtslib’, ‘SummarizedExperiment’, ‘bit64’, ‘plogr’, ‘GenomeInfoDbData’, ‘bitops’, ‘zlibbioc’, ‘XML’, ‘Rsamtools’, ‘GenomicAlignments’, ‘BiocFileCache’, ‘rappdirs’, ‘BiocGenerics’, ‘Biobase’, ‘IRanges’, ‘RSQLite’, ‘S4Vectors’, ‘GenomicRanges’, ‘graph’, ‘RBGL’, ‘GenomeInfoDb’, ‘RCurl’, ‘XVector’, ‘Biostrings’, ‘rtracklayer’, ‘biomaRt’, ‘AnnotationDbi’, ‘OrganismDbi’, ‘GenomicFeatures’, ‘GO.db’, ‘org.Hs.eg.db’, ‘TxDb.Hsapiens.UCSC.hg19.knownGene’\n",
            "\n",
            "\n",
            "Old packages: 'cpp11', 'rmarkdown', 'systemfonts', 'xfun', 'foreign',\n",
            "  'survival'\n",
            "\n"
          ],
          "name": "stderr"
        }
      ]
    },
    {
      "cell_type": "markdown",
      "metadata": {
        "id": "CqWr_hDemkgB"
      },
      "source": [
        "## Load"
      ]
    },
    {
      "cell_type": "code",
      "metadata": {
        "id": "lWTsH-7wmCaE",
        "outputId": "473cc42b-4299-48ab-bbd2-d546205ae6f5",
        "colab": {
          "base_uri": "https://localhost:8080/",
          "height": 1000
        }
      },
      "source": [
        "library(\"Homo.sapiens\")"
      ],
      "execution_count": null,
      "outputs": [
        {
          "output_type": "stream",
          "text": [
            "Loading required package: AnnotationDbi\n",
            "\n",
            "Loading required package: stats4\n",
            "\n",
            "Loading required package: BiocGenerics\n",
            "\n",
            "Loading required package: parallel\n",
            "\n",
            "\n",
            "Attaching package: ‘BiocGenerics’\n",
            "\n",
            "\n",
            "The following objects are masked from ‘package:parallel’:\n",
            "\n",
            "    clusterApply, clusterApplyLB, clusterCall, clusterEvalQ,\n",
            "    clusterExport, clusterMap, parApply, parCapply, parLapply,\n",
            "    parLapplyLB, parRapply, parSapply, parSapplyLB\n",
            "\n",
            "\n",
            "The following objects are masked from ‘package:stats’:\n",
            "\n",
            "    IQR, mad, sd, var, xtabs\n",
            "\n",
            "\n",
            "The following objects are masked from ‘package:base’:\n",
            "\n",
            "    anyDuplicated, append, as.data.frame, basename, cbind, colnames,\n",
            "    dirname, do.call, duplicated, eval, evalq, Filter, Find, get, grep,\n",
            "    grepl, intersect, is.unsorted, lapply, Map, mapply, match, mget,\n",
            "    order, paste, pmax, pmax.int, pmin, pmin.int, Position, rank,\n",
            "    rbind, Reduce, rownames, sapply, setdiff, sort, table, tapply,\n",
            "    union, unique, unsplit, which, which.max, which.min\n",
            "\n",
            "\n",
            "Loading required package: Biobase\n",
            "\n",
            "Welcome to Bioconductor\n",
            "\n",
            "    Vignettes contain introductory material; view with\n",
            "    'browseVignettes()'. To cite Bioconductor, see\n",
            "    'citation(\"Biobase\")', and for packages 'citation(\"pkgname\")'.\n",
            "\n",
            "\n",
            "Loading required package: IRanges\n",
            "\n",
            "Loading required package: S4Vectors\n",
            "\n",
            "\n",
            "Attaching package: ‘S4Vectors’\n",
            "\n",
            "\n",
            "The following object is masked from ‘package:base’:\n",
            "\n",
            "    expand.grid\n",
            "\n",
            "\n",
            "Loading required package: OrganismDbi\n",
            "\n",
            "Loading required package: GenomicFeatures\n",
            "\n",
            "Loading required package: GenomeInfoDb\n",
            "\n",
            "Loading required package: GenomicRanges\n",
            "\n",
            "Loading required package: GO.db\n",
            "\n",
            "\n",
            "\n",
            "Loading required package: org.Hs.eg.db\n",
            "\n",
            "\n",
            "\n",
            "Loading required package: TxDb.Hsapiens.UCSC.hg19.knownGene\n",
            "\n"
          ],
          "name": "stderr"
        }
      ]
    }
  ]
}